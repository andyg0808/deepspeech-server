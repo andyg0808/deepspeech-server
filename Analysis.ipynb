{
 "cells": [
  {
   "cell_type": "code",
   "execution_count": 1,
   "metadata": {},
   "outputs": [],
   "source": [
    "import pandas as pd\n",
    "import matplotlib.pyplot as plt\n",
    "import numpy as np\n",
    "import seaborn as sns\n",
    "import statsmodels.formula.api as smf\n",
    "import statsmodels.graphics.regressionplots as sgr\n",
    "from analysis_tools import plot_trend"
   ]
  },
  {
   "cell_type": "code",
   "execution_count": 2,
   "metadata": {},
   "outputs": [
    {
     "data": {
      "text/html": [
       "<div>\n",
       "<style scoped>\n",
       "    .dataframe tbody tr th:only-of-type {\n",
       "        vertical-align: middle;\n",
       "    }\n",
       "\n",
       "    .dataframe tbody tr th {\n",
       "        vertical-align: top;\n",
       "    }\n",
       "\n",
       "    .dataframe thead th {\n",
       "        text-align: right;\n",
       "    }\n",
       "</style>\n",
       "<table border=\"1\" class=\"dataframe\">\n",
       "  <thead>\n",
       "    <tr style=\"text-align: right;\">\n",
       "      <th></th>\n",
       "      <th></th>\n",
       "      <th>count</th>\n",
       "      <th>mean</th>\n",
       "      <th>std</th>\n",
       "      <th>min</th>\n",
       "      <th>25%</th>\n",
       "      <th>50%</th>\n",
       "      <th>75%</th>\n",
       "      <th>max</th>\n",
       "    </tr>\n",
       "    <tr>\n",
       "      <th>host</th>\n",
       "      <th>pi_count</th>\n",
       "      <th></th>\n",
       "      <th></th>\n",
       "      <th></th>\n",
       "      <th></th>\n",
       "      <th></th>\n",
       "      <th></th>\n",
       "      <th></th>\n",
       "      <th></th>\n",
       "    </tr>\n",
       "  </thead>\n",
       "  <tbody>\n",
       "    <tr>\n",
       "      <th>laptop</th>\n",
       "      <th>1</th>\n",
       "      <td>3.0</td>\n",
       "      <td>39.753146</td>\n",
       "      <td>0.485500</td>\n",
       "      <td>39.414432</td>\n",
       "      <td>39.475035</td>\n",
       "      <td>39.535637</td>\n",
       "      <td>39.922503</td>\n",
       "      <td>40.309369</td>\n",
       "    </tr>\n",
       "    <tr>\n",
       "      <th rowspan=\"5\" valign=\"top\">rapi</th>\n",
       "      <th>1</th>\n",
       "      <td>3.0</td>\n",
       "      <td>768.969668</td>\n",
       "      <td>12.120681</td>\n",
       "      <td>761.601040</td>\n",
       "      <td>761.975124</td>\n",
       "      <td>762.349207</td>\n",
       "      <td>772.653983</td>\n",
       "      <td>782.958758</td>\n",
       "    </tr>\n",
       "    <tr>\n",
       "      <th>2</th>\n",
       "      <td>3.0</td>\n",
       "      <td>391.394798</td>\n",
       "      <td>12.521109</td>\n",
       "      <td>376.936672</td>\n",
       "      <td>387.774849</td>\n",
       "      <td>398.613025</td>\n",
       "      <td>398.623861</td>\n",
       "      <td>398.634696</td>\n",
       "    </tr>\n",
       "    <tr>\n",
       "      <th>3</th>\n",
       "      <td>3.0</td>\n",
       "      <td>324.482621</td>\n",
       "      <td>6.585242</td>\n",
       "      <td>317.476784</td>\n",
       "      <td>321.451113</td>\n",
       "      <td>325.425441</td>\n",
       "      <td>327.985540</td>\n",
       "      <td>330.545638</td>\n",
       "    </tr>\n",
       "    <tr>\n",
       "      <th>4</th>\n",
       "      <td>3.0</td>\n",
       "      <td>300.761213</td>\n",
       "      <td>6.606650</td>\n",
       "      <td>293.250232</td>\n",
       "      <td>298.305390</td>\n",
       "      <td>303.360547</td>\n",
       "      <td>304.516703</td>\n",
       "      <td>305.672859</td>\n",
       "    </tr>\n",
       "    <tr>\n",
       "      <th>5</th>\n",
       "      <td>3.0</td>\n",
       "      <td>159.577755</td>\n",
       "      <td>4.540377</td>\n",
       "      <td>154.572461</td>\n",
       "      <td>157.650913</td>\n",
       "      <td>160.729366</td>\n",
       "      <td>162.080402</td>\n",
       "      <td>163.431438</td>\n",
       "    </tr>\n",
       "  </tbody>\n",
       "</table>\n",
       "</div>"
      ],
      "text/plain": [
       "                 count        mean        std         min         25%  \\\n",
       "host   pi_count                                                         \n",
       "laptop 1           3.0   39.753146   0.485500   39.414432   39.475035   \n",
       "rapi   1           3.0  768.969668  12.120681  761.601040  761.975124   \n",
       "       2           3.0  391.394798  12.521109  376.936672  387.774849   \n",
       "       3           3.0  324.482621   6.585242  317.476784  321.451113   \n",
       "       4           3.0  300.761213   6.606650  293.250232  298.305390   \n",
       "       5           3.0  159.577755   4.540377  154.572461  157.650913   \n",
       "\n",
       "                        50%         75%         max  \n",
       "host   pi_count                                      \n",
       "laptop 1          39.535637   39.922503   40.309369  \n",
       "rapi   1         762.349207  772.653983  782.958758  \n",
       "       2         398.613025  398.623861  398.634696  \n",
       "       3         325.425441  327.985540  330.545638  \n",
       "       4         303.360547  304.516703  305.672859  \n",
       "       5         160.729366  162.080402  163.431438  "
      ]
     },
     "execution_count": 2,
     "metadata": {},
     "output_type": "execute_result"
    }
   ],
   "source": [
    "data = pd.read_csv(\"results.csv\", index_col=0)\n",
    "data['host'] = 'rapi'\n",
    "more_data = pd.read_csv(\"tempresults.csv\", index_col=0)\n",
    "more_data['host'] = 'laptop'\n",
    "data = pd.concat([data, more_data[6:]])\n",
    "data.groupby(['host','pi_count'])['time'].describe()"
   ]
  },
  {
   "cell_type": "code",
   "execution_count": 3,
   "metadata": {},
   "outputs": [
    {
     "name": "stderr",
     "output_type": "stream",
     "text": [
      "/home/andrew/.local/lib/python3.6/site-packages/scipy/stats/stats.py:1390: UserWarning: kurtosistest only valid for n>=20 ... continuing anyway, n=18\n",
      "  \"anyway, n=%i\" % int(n))\n"
     ]
    },
    {
     "data": {
      "text/html": [
       "<table class=\"simpletable\">\n",
       "<caption>OLS Regression Results</caption>\n",
       "<tr>\n",
       "  <th>Dep. Variable:</th>          <td>time</td>       <th>  R-squared:         </th> <td>   0.643</td>\n",
       "</tr>\n",
       "<tr>\n",
       "  <th>Model:</th>                   <td>OLS</td>       <th>  Adj. R-squared:    </th> <td>   0.595</td>\n",
       "</tr>\n",
       "<tr>\n",
       "  <th>Method:</th>             <td>Least Squares</td>  <th>  F-statistic:       </th> <td>   13.48</td>\n",
       "</tr>\n",
       "<tr>\n",
       "  <th>Date:</th>             <td>Thu, 15 Mar 2018</td> <th>  Prob (F-statistic):</th> <td>0.000445</td>\n",
       "</tr>\n",
       "<tr>\n",
       "  <th>Time:</th>                 <td>01:12:58</td>     <th>  Log-Likelihood:    </th> <td> -113.98</td>\n",
       "</tr>\n",
       "<tr>\n",
       "  <th>No. Observations:</th>      <td>    18</td>      <th>  AIC:               </th> <td>   234.0</td>\n",
       "</tr>\n",
       "<tr>\n",
       "  <th>Df Residuals:</th>          <td>    15</td>      <th>  BIC:               </th> <td>   236.6</td>\n",
       "</tr>\n",
       "<tr>\n",
       "  <th>Df Model:</th>              <td>     2</td>      <th>                     </th>     <td> </td>   \n",
       "</tr>\n",
       "<tr>\n",
       "  <th>Covariance Type:</th>      <td>nonrobust</td>    <th>                     </th>     <td> </td>   \n",
       "</tr>\n",
       "</table>\n",
       "<table class=\"simpletable\">\n",
       "<tr>\n",
       "                     <td></td>                       <th>coef</th>     <th>std err</th>      <th>t</th>      <th>P>|t|</th>  <th>[0.025</th>    <th>0.975]</th>  \n",
       "</tr>\n",
       "<tr>\n",
       "  <th>Intercept</th>                              <td>  482.5330</td> <td>   46.278</td> <td>   10.427</td> <td> 0.000</td> <td>  383.895</td> <td>  581.171</td>\n",
       "</tr>\n",
       "<tr>\n",
       "  <th>np.power(pi_count - 2, 3):host[laptop]</th> <td>  442.7799</td> <td>   97.723</td> <td>    4.531</td> <td> 0.000</td> <td>  234.489</td> <td>  651.071</td>\n",
       "</tr>\n",
       "<tr>\n",
       "  <th>np.power(pi_count - 2, 3):host[rapi]</th>   <td>  -13.3565</td> <td>    3.670</td> <td>   -3.639</td> <td> 0.002</td> <td>  -21.179</td> <td>   -5.534</td>\n",
       "</tr>\n",
       "</table>\n",
       "<table class=\"simpletable\">\n",
       "<tr>\n",
       "  <th>Omnibus:</th>       <td> 4.932</td> <th>  Durbin-Watson:     </th> <td>   0.744</td>\n",
       "</tr>\n",
       "<tr>\n",
       "  <th>Prob(Omnibus):</th> <td> 0.085</td> <th>  Jarque-Bera (JB):  </th> <td>   3.462</td>\n",
       "</tr>\n",
       "<tr>\n",
       "  <th>Skew:</th>          <td> 1.074</td> <th>  Prob(JB):          </th> <td>   0.177</td>\n",
       "</tr>\n",
       "<tr>\n",
       "  <th>Kurtosis:</th>      <td> 2.992</td> <th>  Cond. No.          </th> <td>    33.0</td>\n",
       "</tr>\n",
       "</table>"
      ],
      "text/plain": [
       "<class 'statsmodels.iolib.summary.Summary'>\n",
       "\"\"\"\n",
       "                            OLS Regression Results                            \n",
       "==============================================================================\n",
       "Dep. Variable:                   time   R-squared:                       0.643\n",
       "Model:                            OLS   Adj. R-squared:                  0.595\n",
       "Method:                 Least Squares   F-statistic:                     13.48\n",
       "Date:                Thu, 15 Mar 2018   Prob (F-statistic):           0.000445\n",
       "Time:                        01:12:58   Log-Likelihood:                -113.98\n",
       "No. Observations:                  18   AIC:                             234.0\n",
       "Df Residuals:                      15   BIC:                             236.6\n",
       "Df Model:                           2                                         \n",
       "Covariance Type:            nonrobust                                         \n",
       "==========================================================================================================\n",
       "                                             coef    std err          t      P>|t|      [0.025      0.975]\n",
       "----------------------------------------------------------------------------------------------------------\n",
       "Intercept                                482.5330     46.278     10.427      0.000     383.895     581.171\n",
       "np.power(pi_count - 2, 3):host[laptop]   442.7799     97.723      4.531      0.000     234.489     651.071\n",
       "np.power(pi_count - 2, 3):host[rapi]     -13.3565      3.670     -3.639      0.002     -21.179      -5.534\n",
       "==============================================================================\n",
       "Omnibus:                        4.932   Durbin-Watson:                   0.744\n",
       "Prob(Omnibus):                  0.085   Jarque-Bera (JB):                3.462\n",
       "Skew:                           1.074   Prob(JB):                        0.177\n",
       "Kurtosis:                       2.992   Cond. No.                         33.0\n",
       "==============================================================================\n",
       "\n",
       "Warnings:\n",
       "[1] Standard Errors assume that the covariance matrix of the errors is correctly specified.\n",
       "\"\"\""
      ]
     },
     "execution_count": 3,
     "metadata": {},
     "output_type": "execute_result"
    }
   ],
   "source": [
    "mod = smf.ols(formula='time ~ np.power(pi_count-2, 3):host', data=data)\n",
    "res = mod.fit()\n",
    "res.summary()"
   ]
  },
  {
   "cell_type": "code",
   "execution_count": 4,
   "metadata": {},
   "outputs": [
    {
     "data": {
      "image/png": "[encoded data removed]",
      "text/plain": [
       "<matplotlib.figure.Figure at 0x7fb4926901d0>"
      ]
     },
     "metadata": {},
     "output_type": "display_data"
    }
   ],
   "source": [
    "fig, ax = plt.subplots()\n",
    "sns.stripplot(x='pi_count', y='time', hue='host', data=data, ax=ax)\n",
    "ax.set_ylim(bottom=0)\n",
    "plot_trend(res, 'pi_count', ax)\n",
    "fig.savefig(\"pi_count_v_time.png\")"
   ]
  },
  {
   "cell_type": "code",
   "execution_count": 5,
   "metadata": {},
   "outputs": [
    {
     "data": {
      "image/png": "[encoded data removed]",
      "text/plain": [
       "<matplotlib.figure.Figure at 0x7fb4925d4160>"
      ]
     },
     "metadata": {},
     "output_type": "display_data"
    }
   ],
   "source": [
    "fig, ax = plt.subplots()\n",
    "data['pitime_per_file'] = data['time']*data['pi_count']/data['file_count']\n",
    "sns.stripplot(x='pi_count', y='pitime_per_file', hue='host', data=data, ax=ax)\n",
    "ax.set_ylim(bottom=0)\n",
    "fig.savefig(\"pitime_per_file_vs_count.png\")"
   ]
  },
  {
   "cell_type": "code",
   "execution_count": 6,
   "metadata": {},
   "outputs": [],
   "source": [
    "onejump = data['pi_count'].apply(lambda x: x in [1,2,5])"
   ]
  },
  {
   "cell_type": "code",
   "execution_count": 7,
   "metadata": {},
   "outputs": [
    {
     "data": {
      "text/plain": [
       "119.47005927960079"
      ]
     },
     "execution_count": 7,
     "metadata": {},
     "output_type": "execute_result"
    }
   ],
   "source": [
    "data.loc[onejump]['pitime_per_file'].mean()"
   ]
  },
  {
   "cell_type": "code",
   "execution_count": 8,
   "metadata": {},
   "outputs": [
    {
     "name": "stderr",
     "output_type": "stream",
     "text": [
      "/home/andrew/.local/lib/python3.6/site-packages/scipy/stats/stats.py:1390: UserWarning: kurtosistest only valid for n>=20 ... continuing anyway, n=9\n",
      "  \"anyway, n=%i\" % int(n))\n"
     ]
    },
    {
     "data": {
      "text/html": [
       "<table class=\"simpletable\">\n",
       "<caption>OLS Regression Results</caption>\n",
       "<tr>\n",
       "  <th>Dep. Variable:</th>     <td>pitime_per_file</td> <th>  R-squared:         </th> <td>   0.984</td>\n",
       "</tr>\n",
       "<tr>\n",
       "  <th>Model:</th>                   <td>OLS</td>       <th>  Adj. R-squared:    </th> <td>   0.982</td>\n",
       "</tr>\n",
       "<tr>\n",
       "  <th>Method:</th>             <td>Least Squares</td>  <th>  F-statistic:       </th> <td>   442.6</td>\n",
       "</tr>\n",
       "<tr>\n",
       "  <th>Date:</th>             <td>Thu, 15 Mar 2018</td> <th>  Prob (F-statistic):</th> <td>1.38e-07</td>\n",
       "</tr>\n",
       "<tr>\n",
       "  <th>Time:</th>                 <td>01:12:59</td>     <th>  Log-Likelihood:    </th> <td> -25.930</td>\n",
       "</tr>\n",
       "<tr>\n",
       "  <th>No. Observations:</th>      <td>     9</td>      <th>  AIC:               </th> <td>   55.86</td>\n",
       "</tr>\n",
       "<tr>\n",
       "  <th>Df Residuals:</th>          <td>     7</td>      <th>  BIC:               </th> <td>   56.25</td>\n",
       "</tr>\n",
       "<tr>\n",
       "  <th>Df Model:</th>              <td>     1</td>      <th>                     </th>     <td> </td>   \n",
       "</tr>\n",
       "<tr>\n",
       "  <th>Covariance Type:</th>      <td>nonrobust</td>    <th>                     </th>     <td> </td>   \n",
       "</tr>\n",
       "</table>\n",
       "<table class=\"simpletable\">\n",
       "<tr>\n",
       "      <td></td>         <th>coef</th>     <th>std err</th>      <th>t</th>      <th>P>|t|</th>  <th>[0.025</th>    <th>0.975]</th>  \n",
       "</tr>\n",
       "<tr>\n",
       "  <th>Intercept</th> <td>   71.2089</td> <td>    6.211</td> <td>   11.466</td> <td> 0.000</td> <td>   56.523</td> <td>   85.895</td>\n",
       "</tr>\n",
       "<tr>\n",
       "  <th>pi_count</th>  <td>   42.0255</td> <td>    1.998</td> <td>   21.039</td> <td> 0.000</td> <td>   37.302</td> <td>   46.749</td>\n",
       "</tr>\n",
       "</table>\n",
       "<table class=\"simpletable\">\n",
       "<tr>\n",
       "  <th>Omnibus:</th>       <td> 2.952</td> <th>  Durbin-Watson:     </th> <td>   2.298</td>\n",
       "</tr>\n",
       "<tr>\n",
       "  <th>Prob(Omnibus):</th> <td> 0.229</td> <th>  Jarque-Bera (JB):  </th> <td>   0.994</td>\n",
       "</tr>\n",
       "<tr>\n",
       "  <th>Skew:</th>          <td>-0.260</td> <th>  Prob(JB):          </th> <td>   0.608</td>\n",
       "</tr>\n",
       "<tr>\n",
       "  <th>Kurtosis:</th>      <td> 1.457</td> <th>  Cond. No.          </th> <td>    13.0</td>\n",
       "</tr>\n",
       "</table>"
      ],
      "text/plain": [
       "<class 'statsmodels.iolib.summary.Summary'>\n",
       "\"\"\"\n",
       "                            OLS Regression Results                            \n",
       "==============================================================================\n",
       "Dep. Variable:        pitime_per_file   R-squared:                       0.984\n",
       "Model:                            OLS   Adj. R-squared:                  0.982\n",
       "Method:                 Least Squares   F-statistic:                     442.6\n",
       "Date:                Thu, 15 Mar 2018   Prob (F-statistic):           1.38e-07\n",
       "Time:                        01:12:59   Log-Likelihood:                -25.930\n",
       "No. Observations:                   9   AIC:                             55.86\n",
       "Df Residuals:                       7   BIC:                             56.25\n",
       "Df Model:                           1                                         \n",
       "Covariance Type:            nonrobust                                         \n",
       "==============================================================================\n",
       "                 coef    std err          t      P>|t|      [0.025      0.975]\n",
       "------------------------------------------------------------------------------\n",
       "Intercept     71.2089      6.211     11.466      0.000      56.523      85.895\n",
       "pi_count      42.0255      1.998     21.039      0.000      37.302      46.749\n",
       "==============================================================================\n",
       "Omnibus:                        2.952   Durbin-Watson:                   2.298\n",
       "Prob(Omnibus):                  0.229   Jarque-Bera (JB):                0.994\n",
       "Skew:                          -0.260   Prob(JB):                        0.608\n",
       "Kurtosis:                       1.457   Cond. No.                         13.0\n",
       "==============================================================================\n",
       "\n",
       "Warnings:\n",
       "[1] Standard Errors assume that the covariance matrix of the errors is correctly specified.\n",
       "\"\"\""
      ]
     },
     "execution_count": 8,
     "metadata": {},
     "output_type": "execute_result"
    }
   ],
   "source": [
    "curve_up = data['pi_count'].apply(lambda x: x in [2,3,4])\n",
    "count_mod = smf.ols(formula='pitime_per_file ~ pi_count', data=data.loc[curve_up])\n",
    "count_res = count_mod.fit()\n",
    "count_res.summary()"
   ]
  }
 ],
 "metadata": {
  "kernelspec": {
   "display_name": "Python 3",
   "language": "python",
   "name": "python3"
  },
  "language_info": {
   "codemirror_mode": {
    "name": "ipython",
    "version": 3
   },
   "file_extension": ".py",
   "mimetype": "text/x-python",
   "name": "python",
   "nbconvert_exporter": "python",
   "pygments_lexer": "ipython3",
   "version": "3.6.4"
  }
 },
 "nbformat": 4,
 "nbformat_minor": 2
}
