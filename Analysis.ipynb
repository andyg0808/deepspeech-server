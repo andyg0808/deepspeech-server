{
 "cells": [
  {
   "cell_type": "code",
   "execution_count": 1,
   "metadata": {},
   "outputs": [],
   "source": [
    "import pandas as pd\n",
    "import matplotlib.pyplot as plt\n",
    "import numpy as np\n",
    "import seaborn as sns\n",
    "import statsmodels.formula.api as smf\n",
    "import statsmodels.graphics.regressionplots as sgr"
   ]
  },
  {
   "cell_type": "code",
   "execution_count": 2,
   "metadata": {},
   "outputs": [
    {
     "data": {
      "text/plain": [
       "Index(['file_count', 'pi_count', 'time', 'timestamp'], dtype='object')"
      ]
     },
     "execution_count": 2,
     "metadata": {},
     "output_type": "execute_result"
    }
   ],
   "source": [
    "data = pd.read_csv(\"results.csv\", index_col=0)\n",
    "data.columns"
   ]
  },
  {
   "cell_type": "code",
   "execution_count": 3,
   "metadata": {},
   "outputs": [
    {
     "data": {
      "text/html": [
       "<div>\n",
       "<style scoped>\n",
       "    .dataframe tbody tr th:only-of-type {\n",
       "        vertical-align: middle;\n",
       "    }\n",
       "\n",
       "    .dataframe tbody tr th {\n",
       "        vertical-align: top;\n",
       "    }\n",
       "\n",
       "    .dataframe thead th {\n",
       "        text-align: right;\n",
       "    }\n",
       "</style>\n",
       "<table border=\"1\" class=\"dataframe\">\n",
       "  <thead>\n",
       "    <tr style=\"text-align: right;\">\n",
       "      <th></th>\n",
       "      <th>count</th>\n",
       "      <th>mean</th>\n",
       "      <th>std</th>\n",
       "      <th>min</th>\n",
       "      <th>25%</th>\n",
       "      <th>50%</th>\n",
       "      <th>75%</th>\n",
       "      <th>max</th>\n",
       "    </tr>\n",
       "    <tr>\n",
       "      <th>pi_count</th>\n",
       "      <th></th>\n",
       "      <th></th>\n",
       "      <th></th>\n",
       "      <th></th>\n",
       "      <th></th>\n",
       "      <th></th>\n",
       "      <th></th>\n",
       "      <th></th>\n",
       "    </tr>\n",
       "  </thead>\n",
       "  <tbody>\n",
       "    <tr>\n",
       "      <th>1</th>\n",
       "      <td>3.0</td>\n",
       "      <td>768.969668</td>\n",
       "      <td>12.120681</td>\n",
       "      <td>761.601040</td>\n",
       "      <td>761.975124</td>\n",
       "      <td>762.349207</td>\n",
       "      <td>772.653983</td>\n",
       "      <td>782.958758</td>\n",
       "    </tr>\n",
       "    <tr>\n",
       "      <th>2</th>\n",
       "      <td>3.0</td>\n",
       "      <td>391.394798</td>\n",
       "      <td>12.521109</td>\n",
       "      <td>376.936672</td>\n",
       "      <td>387.774849</td>\n",
       "      <td>398.613025</td>\n",
       "      <td>398.623861</td>\n",
       "      <td>398.634696</td>\n",
       "    </tr>\n",
       "    <tr>\n",
       "      <th>3</th>\n",
       "      <td>3.0</td>\n",
       "      <td>324.482621</td>\n",
       "      <td>6.585242</td>\n",
       "      <td>317.476784</td>\n",
       "      <td>321.451113</td>\n",
       "      <td>325.425441</td>\n",
       "      <td>327.985540</td>\n",
       "      <td>330.545638</td>\n",
       "    </tr>\n",
       "    <tr>\n",
       "      <th>4</th>\n",
       "      <td>3.0</td>\n",
       "      <td>300.761213</td>\n",
       "      <td>6.606650</td>\n",
       "      <td>293.250232</td>\n",
       "      <td>298.305390</td>\n",
       "      <td>303.360547</td>\n",
       "      <td>304.516703</td>\n",
       "      <td>305.672859</td>\n",
       "    </tr>\n",
       "    <tr>\n",
       "      <th>5</th>\n",
       "      <td>3.0</td>\n",
       "      <td>159.577755</td>\n",
       "      <td>4.540377</td>\n",
       "      <td>154.572461</td>\n",
       "      <td>157.650913</td>\n",
       "      <td>160.729366</td>\n",
       "      <td>162.080402</td>\n",
       "      <td>163.431438</td>\n",
       "    </tr>\n",
       "  </tbody>\n",
       "</table>\n",
       "</div>"
      ],
      "text/plain": [
       "          count        mean        std         min         25%         50%  \\\n",
       "pi_count                                                                     \n",
       "1           3.0  768.969668  12.120681  761.601040  761.975124  762.349207   \n",
       "2           3.0  391.394798  12.521109  376.936672  387.774849  398.613025   \n",
       "3           3.0  324.482621   6.585242  317.476784  321.451113  325.425441   \n",
       "4           3.0  300.761213   6.606650  293.250232  298.305390  303.360547   \n",
       "5           3.0  159.577755   4.540377  154.572461  157.650913  160.729366   \n",
       "\n",
       "                 75%         max  \n",
       "pi_count                          \n",
       "1         772.653983  782.958758  \n",
       "2         398.623861  398.634696  \n",
       "3         327.985540  330.545638  \n",
       "4         304.516703  305.672859  \n",
       "5         162.080402  163.431438  "
      ]
     },
     "execution_count": 3,
     "metadata": {},
     "output_type": "execute_result"
    }
   ],
   "source": [
    "data.groupby('pi_count')['time'].describe()"
   ]
  },
  {
   "cell_type": "code",
   "execution_count": 4,
   "metadata": {},
   "outputs": [
    {
     "name": "stderr",
     "output_type": "stream",
     "text": [
      "/home/andrew/.local/lib/python3.6/site-packages/scipy/stats/stats.py:1390: UserWarning: kurtosistest only valid for n>=20 ... continuing anyway, n=15\n",
      "  \"anyway, n=%i\" % int(n))\n"
     ]
    },
    {
     "data": {
      "text/html": [
       "<table class=\"simpletable\">\n",
       "<caption>OLS Regression Results</caption>\n",
       "<tr>\n",
       "  <th>Dep. Variable:</th>          <td>time</td>       <th>  R-squared:         </th> <td>   0.819</td>\n",
       "</tr>\n",
       "<tr>\n",
       "  <th>Model:</th>                   <td>OLS</td>       <th>  Adj. R-squared:    </th> <td>   0.806</td>\n",
       "</tr>\n",
       "<tr>\n",
       "  <th>Method:</th>             <td>Least Squares</td>  <th>  F-statistic:       </th> <td>   58.99</td>\n",
       "</tr>\n",
       "<tr>\n",
       "  <th>Date:</th>             <td>Wed, 14 Mar 2018</td> <th>  Prob (F-statistic):</th> <td>3.48e-06</td>\n",
       "</tr>\n",
       "<tr>\n",
       "  <th>Time:</th>                 <td>17:45:02</td>     <th>  Log-Likelihood:    </th> <td> -88.260</td>\n",
       "</tr>\n",
       "<tr>\n",
       "  <th>No. Observations:</th>      <td>    15</td>      <th>  AIC:               </th> <td>   180.5</td>\n",
       "</tr>\n",
       "<tr>\n",
       "  <th>Df Residuals:</th>          <td>    13</td>      <th>  BIC:               </th> <td>   181.9</td>\n",
       "</tr>\n",
       "<tr>\n",
       "  <th>Df Model:</th>              <td>     1</td>      <th>                     </th>     <td> </td>   \n",
       "</tr>\n",
       "<tr>\n",
       "  <th>Covariance Type:</th>      <td>nonrobust</td>    <th>                     </th>     <td> </td>   \n",
       "</tr>\n",
       "</table>\n",
       "<table class=\"simpletable\">\n",
       "<tr>\n",
       "      <td></td>         <th>coef</th>     <th>std err</th>      <th>t</th>      <th>P>|t|</th>  <th>[0.025</th>    <th>0.975]</th>  \n",
       "</tr>\n",
       "<tr>\n",
       "  <th>Intercept</th> <td>  781.8624</td> <td>   56.542</td> <td>   13.828</td> <td> 0.000</td> <td>  659.711</td> <td>  904.014</td>\n",
       "</tr>\n",
       "<tr>\n",
       "  <th>pi_count</th>  <td> -130.9417</td> <td>   17.048</td> <td>   -7.681</td> <td> 0.000</td> <td> -167.772</td> <td>  -94.112</td>\n",
       "</tr>\n",
       "</table>\n",
       "<table class=\"simpletable\">\n",
       "<tr>\n",
       "  <th>Omnibus:</th>       <td> 2.048</td> <th>  Durbin-Watson:     </th> <td>   0.837</td>\n",
       "</tr>\n",
       "<tr>\n",
       "  <th>Prob(Omnibus):</th> <td> 0.359</td> <th>  Jarque-Bera (JB):  </th> <td>   1.018</td>\n",
       "</tr>\n",
       "<tr>\n",
       "  <th>Skew:</th>          <td>-0.196</td> <th>  Prob(JB):          </th> <td>   0.601</td>\n",
       "</tr>\n",
       "<tr>\n",
       "  <th>Kurtosis:</th>      <td> 1.786</td> <th>  Cond. No.          </th> <td>    8.37</td>\n",
       "</tr>\n",
       "</table>"
      ],
      "text/plain": [
       "<class 'statsmodels.iolib.summary.Summary'>\n",
       "\"\"\"\n",
       "                            OLS Regression Results                            \n",
       "==============================================================================\n",
       "Dep. Variable:                   time   R-squared:                       0.819\n",
       "Model:                            OLS   Adj. R-squared:                  0.806\n",
       "Method:                 Least Squares   F-statistic:                     58.99\n",
       "Date:                Wed, 14 Mar 2018   Prob (F-statistic):           3.48e-06\n",
       "Time:                        17:45:02   Log-Likelihood:                -88.260\n",
       "No. Observations:                  15   AIC:                             180.5\n",
       "Df Residuals:                      13   BIC:                             181.9\n",
       "Df Model:                           1                                         \n",
       "Covariance Type:            nonrobust                                         \n",
       "==============================================================================\n",
       "                 coef    std err          t      P>|t|      [0.025      0.975]\n",
       "------------------------------------------------------------------------------\n",
       "Intercept    781.8624     56.542     13.828      0.000     659.711     904.014\n",
       "pi_count    -130.9417     17.048     -7.681      0.000    -167.772     -94.112\n",
       "==============================================================================\n",
       "Omnibus:                        2.048   Durbin-Watson:                   0.837\n",
       "Prob(Omnibus):                  0.359   Jarque-Bera (JB):                1.018\n",
       "Skew:                          -0.196   Prob(JB):                        0.601\n",
       "Kurtosis:                       1.786   Cond. No.                         8.37\n",
       "==============================================================================\n",
       "\n",
       "Warnings:\n",
       "[1] Standard Errors assume that the covariance matrix of the errors is correctly specified.\n",
       "\"\"\""
      ]
     },
     "execution_count": 4,
     "metadata": {},
     "output_type": "execute_result"
    }
   ],
   "source": [
    "mod = smf.ols(formula='time ~ pi_count', data=data)\n",
    "res = mod.fit()\n",
    "res.summary()"
   ]
  },
  {
   "cell_type": "code",
   "execution_count": 5,
   "metadata": {},
   "outputs": [
    {
     "data": {
      "image/png": "[encoded data removed]",
      "text/plain": [
       "<matplotlib.figure.Figure at 0x7fccd8fbe2e8>"
      ]
     },
     "metadata": {},
     "output_type": "display_data"
    }
   ],
   "source": [
    "fig, ax = plt.subplots()\n",
    "sns.stripplot(x='pi_count', y='time', data=data, ax=ax)\n",
    "sgr.abline_plot(model_results=res, ax=ax)\n",
    "fig.savefig(\"pi_count_v_time.png\")"
   ]
  },
  {
   "cell_type": "code",
   "execution_count": 16,
   "metadata": {},
   "outputs": [
    {
     "data": {
      "image/png": "[encoded data removed]",
      "text/plain": [
       "<matplotlib.figure.Figure at 0x7fccd89cbcf8>"
      ]
     },
     "metadata": {},
     "output_type": "display_data"
    }
   ],
   "source": [
    "fig, ax = plt.subplots()\n",
    "data['pitime_per_file'] = data['time']*data['pi_count']/data['file_count']\n",
    "sns.stripplot(x='pi_count', y='pitime_per_file', data=data, ax=ax)\n",
    "ax.set_ylim(bottom=0)\n",
    "fig.savefig(\"pitime_per_file_vs_count.png\")"
   ]
  }
 ],
 "metadata": {
  "kernelspec": {
   "display_name": "Python 3",
   "language": "python",
   "name": "python3"
  },
  "language_info": {
   "codemirror_mode": {
    "name": "ipython",
    "version": 3
   },
   "file_extension": ".py",
   "mimetype": "text/x-python",
   "name": "python",
   "nbconvert_exporter": "python",
   "pygments_lexer": "ipython3",
   "version": "3.6.4"
  }
 },
 "nbformat": 4,
 "nbformat_minor": 2
}
